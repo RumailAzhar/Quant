{
 "cells": [
  {
   "cell_type": "markdown",
   "metadata": {},
   "source": [
    "# Project 1: Pricing Derivatives\n",
    "In this Project I implement and test the Black-Scholes formulae for pricing various options. Then I perform various consistency checks on my implementation. \n",
    "\n",
    "Prices will be a function of time-to-maturity $T$, continuously compounding rate $r$, dividend rate $d$, strike $K$, spot $S$. and volatility $\\sigma$\n",
    "### Zero-Coupon Bond\n",
    "The price of a zero-coupon bond is \n",
    "$$P = e^{-rT}$$\n",
    "### Forward Contract\n",
    "The price of a forward contract is $$ P = e^{-rT}\\left(e^{(r-d)T}S-K\\right)$$\n",
    "\n",
    "### Call and Put Options\n",
    "The prices of Call and Put options are respectively\n",
    "$$C = Se^{-dT}N(d_1) - K e^{-rT} N(d_2),$$\n",
    "$$P = K e^{-rT} N(-d_2) - Se^{-dT}N(-d_1),$$\n",
    "where \n",
    "$$d_1 = \\frac{\\log(\\frac{S}{K}) + T(r-d+\\frac{\\sigma^2}{2})}{\\sigma \\sqrt{T}},$$\n",
    "$$d_2 = d_1 - \\sigma \\sqrt{T},$$\n",
    "and $N(x)$ is the standard normal cumulative distribution function:\n",
    "$$N(x) = \\frac{1}{\\sqrt{2\\pi}} \\int_{-\\infty}^x e^{\\frac{-t^2}{2}}dt.$$\n",
    "\n",
    "### Digital Calls and Puts\n",
    "The prices of digital calls and puts are respectively\n",
    "$$C = e^{-rT}N(d_2), $$\n",
    "$$P = e^{-rT}N(-d_2).$$"
   ]
  },
  {
   "cell_type": "markdown",
   "metadata": {},
   "source": [
    "## Consistency Checks\n",
    "First we check Put-Call parity. The difference between the price of a call $C$ and a put $P$ should be equal to the value of a forward $F$ (all with the same strike, and time-to-maturity):\n",
    "$$C-P = F.$$ \n",
    "We initialise random values of the input variables and compare the two values."
   ]
  },
  {
   "cell_type": "code",
   "execution_count": 19,
   "metadata": {},
   "outputs": [
    {
     "name": "stdout",
     "output_type": "stream",
     "text": [
      "Put-Call parity:  True\n"
     ]
    }
   ],
   "source": [
    "#initialise random values for pricing inputs\n",
    "from Pricing import CallPrice, PutPrice, ForwardPrice\n",
    "import random\n",
    "T, r, d, K, S, vol = [random.uniform(0, 10),\n",
    "                      random.uniform(0,1),\n",
    "                      random.uniform(0,1),\n",
    "                      random.uniform(0,10),\n",
    "                      random.uniform(0,10),\n",
    "                      random.uniform(0,10)]\n",
    "#set error tolerance\n",
    "tol = 1e-15\n",
    "#checking put-call parity. return True if satisfied\n",
    "PutCallParity = abs(CallPrice(S,K,T,r,d,vol) - PutPrice(S,K,T,r,d,vol) - ForwardPrice(S,K,T,r,d)) < tol \n",
    "print('Put-Call parity: ', PutCallParity)"
   ]
  },
  {
   "cell_type": "markdown",
   "metadata": {},
   "source": [
    "Next we check that the price of a call option is monotone decreasing with strike. We alse see that the call option price is a convex function of strike."
   ]
  },
  {
   "cell_type": "code",
   "execution_count": 44,
   "metadata": {},
   "outputs": [
    {
     "data": {
      "image/png": "[encoded data removed]",
      "text/plain": [
       "<Figure size 432x288 with 1 Axes>"
      ]
     },
     "metadata": {
      "needs_background": "light"
     },
     "output_type": "display_data"
    }
   ],
   "source": [
    "import matplotlib.pyplot as plt\n",
    "import numpy as np\n",
    "strike_range = np.arange(0.01,100,0.01)\n",
    "call_prices = np.zeros(len(strike_range))\n",
    "for i, k in enumerate(strike_range):\n",
    "    call_prices[i] = CallPrice(S,k,T,r,d,vol)\n",
    "plt.xlabel('K')\n",
    "plt.ylabel('C')\n",
    "plt.plot(strike_range,call_prices)\n",
    "plt.show()\n"
   ]
  },
  {
   "cell_type": "markdown",
   "metadata": {},
   "source": [
    "Our next check will be that a call option price should be between $Se^{-dT}$ and $Se^{-dT}-Ke^{-rT}$ for all input values."
   ]
  },
  {
   "cell_type": "code",
   "execution_count": 41,
   "metadata": {},
   "outputs": [
    {
     "name": "stdout",
     "output_type": "stream",
     "text": [
      "Call price bounds satisfied:  True\n"
     ]
    }
   ],
   "source": [
    "from math import exp\n",
    "bounds_check = CallPrice(S,K,T,r,d,vol)< S*exp(-d*T) and CallPrice(S,K,T,r,d,vol)>S*exp(-d*T)-K*exp(-r*T)\n",
    "print('Call price bounds satisfied: ',bounds_check)"
   ]
  },
  {
   "cell_type": "markdown",
   "metadata": {},
   "source": [
    "Now we check that the call price is monotone increasing in volatility."
   ]
  },
  {
   "cell_type": "code",
   "execution_count": 42,
   "metadata": {},
   "outputs": [
    {
     "data": {
      "image/png": "[encoded data removed]",
      "text/plain": [
       "<Figure size 432x288 with 1 Axes>"
      ]
     },
     "metadata": {
      "needs_background": "light"
     },
     "output_type": "display_data"
    }
   ],
   "source": [
    "vol_range = np.arange(0.01,10,0.001)\n",
    "call_prices = np.zeros(len(vol_range))\n",
    "for i, v in enumerate(vol_range):\n",
    "    call_prices[i] = CallPrice(S,K,T,r,d,v)\n",
    "plt.xlabel(r'$\\sigma$')\n",
    "plt.ylabel('C')\n",
    "plt.plot(vol_range,call_prices)\n",
    "plt.show()"
   ]
  },
  {
   "cell_type": "markdown",
   "metadata": {},
   "source": [
    "If $d=0$, the call option price should be increasing with $T$."
   ]
  },
  {
   "cell_type": "code",
   "execution_count": 43,
   "metadata": {},
   "outputs": [
    {
     "data": {
      "image/png": "[encoded data removed]",
      "text/plain": [
       "<Figure size 432x288 with 1 Axes>"
      ]
     },
     "metadata": {
      "needs_background": "light"
     },
     "output_type": "display_data"
    }
   ],
   "source": [
    "T_range = np.arange(0.01,10,0.001)\n",
    "call_prices = np.zeros(len(vol_range))\n",
    "for i, t in enumerate(T_range):\n",
    "    call_prices[i] = CallPrice(S,K,t,r,0,vol)\n",
    "plt.xlabel('T')\n",
    "plt.ylabel('C')\n",
    "plt.plot(T_range,call_prices)\n",
    "plt.show()"
   ]
  },
  {
   "cell_type": "markdown",
   "metadata": {},
   "source": [
    "Now we check that the price of a call-spread approximates the price of a digital-call option. The payoff of a call spread that approximates a digital call of strike $K$ is\n",
    "$$\\frac{(S-(K-\\epsilon))^+ - (S-(K+\\epsilon))^+}{2\\epsilon},$$\n",
    "with $\\epsilon$ small."
   ]
  },
  {
   "cell_type": "code",
   "execution_count": 56,
   "metadata": {},
   "outputs": [
    {
     "name": "stdout",
     "output_type": "stream",
     "text": [
      "Difference in Call spread and Digital Call is  8.765227214185822e-08\n"
     ]
    }
   ],
   "source": [
    "from Pricing import DigitalCallPrice\n",
    "eps = 0.000000001\n",
    "K_1 = K+eps\n",
    "K_2 = K-eps\n",
    "K_mid = 0.5*(K_1 + K_2)\n",
    "CallSpread = (CallPrice(S,K_2,T,r,d,vol) - CallPrice(S,K_1,T,r,d,vol))/(2*eps)\n",
    "DigitalCall = DigitalCallPrice(S,K_mid,T,r,d,vol)\n",
    "print('Difference in Call spread and Digital Call is ',abs(CallSpread - DigitalCall))"
   ]
  },
  {
   "cell_type": "markdown",
   "metadata": {},
   "source": [
    "Finally we check that the sum of the prices of a digital call and digital put is the same as the price of a zero-coupon bond. "
   ]
  },
  {
   "cell_type": "code",
   "execution_count": 59,
   "metadata": {},
   "outputs": [
    {
     "name": "stdout",
     "output_type": "stream",
     "text": [
      "Sum of digital call and put is bond: True\n"
     ]
    }
   ],
   "source": [
    "from Pricing import DigitalPutPrice, BondPrice\n",
    "print('Sum of digital call and put is bond:',abs(DigitalCallPrice(S,K,T,r,d,vol) + DigitalPutPrice(S,K,T,r,d,vol) - BondPrice(T,r))<tol)"
   ]
  },
  {
   "cell_type": "markdown",
   "metadata": {},
   "source": [
    "We find that our results are consistent with all of our checks, and that the pricing formulae have all been implemented correctly."
   ]
  },
  {
   "cell_type": "markdown",
   "metadata": {},
   "source": []
  }
 ],
 "metadata": {
  "kernelspec": {
   "display_name": "Python 3",
   "language": "python",
   "name": "python3"
  },
  "language_info": {
   "codemirror_mode": {
    "name": "ipython",
    "version": 3
   },
   "file_extension": ".py",
   "mimetype": "text/x-python",
   "name": "python",
   "nbconvert_exporter": "python",
   "pygments_lexer": "ipython3",
   "version": "3.10.5"
  }
 },
 "nbformat": 4,
 "nbformat_minor": 2
}
