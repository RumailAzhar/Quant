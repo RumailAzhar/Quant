{
 "cells": [
  {
   "cell_type": "markdown",
   "metadata": {},
   "source": [
    "# Project 1: Pricing Derivatives\n",
    "In this Project I implement and test the Black-Scholes formulae for pricing various options. Then I perform various consistency checks on my implementation. \n",
    "\n",
    "Prices will be a function of time-to-maturity $T$, continuously compounding rate $r$, dividend rate $d$, strike $K$, spot $S$. and volatility $\\sigma$\n",
    "### Zero-Coupon Bond\n",
    "The price of a zero-coupon bond is \n",
    "$$P = e^{-rT}$$\n",
    "### Forward Contract\n",
    "The price of a forward contract is $$ P = e^{-rT}\\left(e^{(r-d)T}S-K\\right)$$\n",
    "\n",
    "### Call and Put Options\n",
    "The prices of Call and Put options are respectively\n",
    "$$C = Se^{-dT}N(d_1) - K e^{-rT} N(d_2),$$\n",
    "$$P = K e^{-rT} N(-d_2) - Se^{-dT}N(-d_1),$$\n",
    "where \n",
    "$$d_1 = \\frac{\\log(\\frac{S}{K}) + T(r-d+\\frac{\\sigma^2}{2})}{\\sigma \\sqrt{T}},$$\n",
    "$$d_2 = d_1 - \\sigma \\sqrt{T},$$\n",
    "and $N(x)$ is the standard normal cumulative distribution function:\n",
    "$$N(x) = \\frac{1}{\\sqrt{2\\pi}} \\int_{-\\infty}^x e^{\\frac{-t^2}{2}}dt.$$\n",
    "\n",
    "### Digital Calls and Puts\n",
    "The prices of digital calls and p\n",
    "uts are respectively\n",
    "$$C = e^{-rT}N(d_2), $$\n",
    "$$P = e^{-rT}N(-d_2).$$"
   ]
  },
  {
   "cell_type": "markdown",
   "metadata": {},
   "source": []
  }
 ],
 "metadata": {
  "language_info": {
   "name": "python"
  }
 },
 "nbformat": 4,
 "nbformat_minor": 2
}
